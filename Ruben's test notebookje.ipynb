{
 "cells": [
  {
   "cell_type": "code",
   "execution_count": 1,
   "metadata": {},
   "outputs": [
    {
     "name": "stderr",
     "output_type": "stream",
     "text": [
      "c:\\users\\ruben\\appdata\\local\\programs\\python\\python36\\lib\\site-packages\\h5py\\__init__.py:36: FutureWarning: Conversion of the second argument of issubdtype from `float` to `np.floating` is deprecated. In future, it will be treated as `np.float64 == np.dtype(float).type`.\n",
      "  from ._conv import register_converters as _register_converters\n",
      "Using TensorFlow backend.\n"
     ]
    }
   ],
   "source": [
    "import random\n",
    "import numpy as np\n",
    "import array\n",
    "\n",
    "from deap import algorithms\n",
    "from deap import base\n",
    "from deap import creator\n",
    "from deap import tools\n",
    "\n",
    "import representations, fitness, mutations\n",
    "\n",
    "\n",
    "#INITIAL_BLOCKS = 5 # Represents how many random layer blocks each NNet should start with\n",
    "INITIAL_BLOCKS = 5 # Random Exclusive represents how many random layer blocks each NNet should start with\n",
    "\n",
    "POPULATION = 10\n",
    "GENERATIONS = 10\n",
    "PROB_MUTATIONS = 0.25 # Probability of mutating in a new generation\n",
    "PROB_MATE = 0.6 # Probability of mating / crossover in a new generation\n",
    "NUMBER_EPOCHS = 2 #Epochs when training the network\n",
    "\n",
    "#---------------------\n",
    "\n",
    "def getRandomIndividual(iterations=1):\n",
    "    #Possible networks to choose from:\n",
    "    '''\n",
    "    networks = [\n",
    "        [representations.make_conv2d_repr(),\n",
    "        representations.make_pool_repr()],\n",
    "\n",
    "        [representations.make_dropout_repr(),\n",
    "        representations.make_conv2d_repr()],\n",
    "\n",
    "        [representations.make_batchnorm_repr()],\n",
    "\n",
    "        [representations.make_noise_repr()]\n",
    "    ]\n",
    "\n",
    "    probabilities = [0.3, 0.3, 0.25, 0.15]\n",
    "\n",
    "    \n",
    "    out = []\n",
    "\n",
    "    \n",
    "    for x in range(0,iterations):\n",
    "        choice = np.random.choice(networks, p=probabilities)\n",
    "        for layer in choice:\n",
    "            out.append(layer)\n",
    "    \n",
    "    return out\n",
    "    '''\n",
    "\n",
    "    # get this list from representations.REPR_MAKERS. If you add a new block type,\n",
    "    # also add it to the representations.REPR_MAKERS list, so it can also mutate.\n",
    "    networks = [\n",
    "        representations.make_conv2d_pool_repr(),\n",
    "        representations.make_conv2d_dropout_repr(),\n",
    "        representations.make_batchnorm_repr(),\n",
    "        representations.make_noise_repr(),\n",
    "        representations.make_dropout_repr(),\n",
    "\n",
    "    ]\n",
    "    probabilities = [0.3, 0.3, 0.10, 0.15, 0.15]\n",
    "    \n",
    "    return np.random.choice(networks,p=probabilities)\n",
    "\n",
    "\n",
    "'''\n",
    "Evaluation function (should return the fitness)\n",
    "'''\n",
    "def evaluateFunc(individual):\n",
    "    return fitness.evaluate_nn(individual, NUMBER_EPOCHS), #<--- IMPORTANT: add the comma ','; as it needs to return a tuple\n",
    "\n",
    "def initRepeatRandom(container, func, n):\n",
    "    \"\"\"\n",
    "    Extended toolbox.initRepeat() function to work with random initialization instead of fixed numbers.\n",
    "    \"\"\"\n",
    "    return container(func() for _ in range(np.random.randint(1,n)))\n",
    "\n",
    "# -------------- Init / Main stuff ----------------------\n",
    "\n",
    "# Create attributes\n",
    "creator.create(\"FitnessMax\", base.Fitness, weights=(1.0,))\n",
    "creator.create(\"Individual\", np.ndarray,  fitness=creator.FitnessMax)\n",
    "\n",
    "mutations.setIndividual(creator.Individual)\n",
    "\n",
    "\n",
    "toolbox = base.Toolbox()\n",
    "\n",
    "toolbox.register(\"individual\", initRepeatRandom, creator.Individual, getRandomIndividual, n=INITIAL_BLOCKS) #<-- Creates 3 elements. This random, however does not evaluate the random function each time yet\n",
    "toolbox.register(\"population\", tools.initRepeat, list, toolbox.individual)\n",
    "\n",
    "\n",
    "toolbox.register(\"evaluate\", evaluateFunc) #register the evaluation function\n",
    "toolbox.register(\"mate\", tools.cxTwoPoint)\n",
    "toolbox.register(\"mutate\", mutations.mutate_layer, verbose=True)\n",
    "toolbox.register(\"select\", tools.selTournament, tournsize=3)\n",
    "#toolbox.register(\"select\", tools.selBest)\n",
    "#deap.tools.selBest(individuals, k, fit_attr='fitness')¶\n",
    "\n"
   ]
  },
  {
   "cell_type": "code",
   "execution_count": 3,
   "metadata": {},
   "outputs": [],
   "source": [
    "random.seed(1337)\n",
    "pop = toolbox.population(n=POPULATION)\n",
    "\n",
    "\n",
    "\n",
    "hof = tools.HallOfFame(10, similar=np.array_equal)\n",
    "\n",
    "stats = tools.Statistics(lambda ind: ind.fitness.values)\n",
    "stats.register(\"avg\", np.mean)\n",
    "stats.register(\"std\", np.std)\n",
    "stats.register(\"min\", np.min)\n",
    "stats.register(\"max\", np.max)"
   ]
  },
  {
   "cell_type": "code",
   "execution_count": 6,
   "metadata": {},
   "outputs": [],
   "source": [
    "containerIndividual = mutations.containerIndividual"
   ]
  },
  {
   "cell_type": "code",
   "execution_count": 17,
   "metadata": {},
   "outputs": [],
   "source": [
    "indiv = pop[1]"
   ]
  },
  {
   "cell_type": "code",
   "execution_count": 18,
   "metadata": {},
   "outputs": [
    {
     "data": {
      "text/plain": [
       "Individual([{'type': 'batchnorm', 'params': {}},\n",
       "            {'type': 'conv2ddropout', 'params': {'filters': 16, 'kernel_size': 3, 'activation': 'relu', 'rate': 0.36}},\n",
       "            {'type': 'conv2ddropout', 'params': {'filters': 8, 'kernel_size': 3, 'activation': 'relu', 'rate': 0.34}}],\n",
       "           dtype=object)"
      ]
     },
     "execution_count": 18,
     "metadata": {},
     "output_type": "execute_result"
    }
   ],
   "source": [
    "indiv"
   ]
  },
  {
   "cell_type": "code",
   "execution_count": 32,
   "metadata": {},
   "outputs": [],
   "source": [
    "newArr = [indiv[1], indiv[2]] # append  just 2 of 3 layers"
   ]
  },
  {
   "cell_type": "code",
   "execution_count": 26,
   "metadata": {},
   "outputs": [
    {
     "data": {
      "text/plain": [
       "[{'params': {'activation': 'relu',\n",
       "   'filters': 16,\n",
       "   'kernel_size': 3,\n",
       "   'rate': 0.36},\n",
       "  'type': 'conv2ddropout'},\n",
       " {'params': {'activation': 'relu',\n",
       "   'filters': 8,\n",
       "   'kernel_size': 3,\n",
       "   'rate': 0.34},\n",
       "  'type': 'conv2ddropout'}]"
      ]
     },
     "execution_count": 26,
     "metadata": {},
     "output_type": "execute_result"
    }
   ],
   "source": [
    "newArr"
   ]
  },
  {
   "cell_type": "code",
   "execution_count": 27,
   "metadata": {},
   "outputs": [
    {
     "data": {
      "text/plain": [
       "Individual([{'type': 'conv2ddropout', 'params': {'filters': 16, 'kernel_size': 3, 'activation': 'relu', 'rate': 0.36}},\n",
       "            {'type': 'conv2ddropout', 'params': {'filters': 8, 'kernel_size': 3, 'activation': 'relu', 'rate': 0.34}}],\n",
       "           dtype=object)"
      ]
     },
     "execution_count": 27,
     "metadata": {},
     "output_type": "execute_result"
    }
   ],
   "source": [
    "containerIndividual(newArr)"
   ]
  },
  {
   "cell_type": "code",
   "execution_count": null,
   "metadata": {},
   "outputs": [],
   "source": []
  },
  {
   "cell_type": "code",
   "execution_count": null,
   "metadata": {},
   "outputs": [],
   "source": []
  }
 ],
 "metadata": {
  "kernelspec": {
   "display_name": "Python 3",
   "language": "python",
   "name": "python3"
  },
  "language_info": {
   "codemirror_mode": {
    "name": "ipython",
    "version": 3
   },
   "file_extension": ".py",
   "mimetype": "text/x-python",
   "name": "python",
   "nbconvert_exporter": "python",
   "pygments_lexer": "ipython3",
   "version": "3.6.3"
  }
 },
 "nbformat": 4,
 "nbformat_minor": 2
}
