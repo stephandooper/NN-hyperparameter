{
 "cells": [
  {
   "cell_type": "code",
   "execution_count": 1,
   "metadata": {},
   "outputs": [
    {
     "name": "stderr",
     "output_type": "stream",
     "text": [
      "c:\\users\\ruben\\appdata\\local\\programs\\python\\python36\\lib\\site-packages\\h5py\\__init__.py:36: FutureWarning: Conversion of the second argument of issubdtype from `float` to `np.floating` is deprecated. In future, it will be treated as `np.float64 == np.dtype(float).type`.\n",
      "  from ._conv import register_converters as _register_converters\n",
      "Using TensorFlow backend.\n"
     ]
    }
   ],
   "source": [
    "import random\n",
    "import array\n",
    "import numpy\n",
    "\n",
    "from deap import algorithms\n",
    "from deap import base\n",
    "from deap import creator\n",
    "from deap import tools\n",
    "\n",
    "import representations\n",
    "\n",
    "\n",
    "\n",
    "# Create attributes\n",
    "creator.create(\"FitnessMax\", base.Fitness, weights=(1.0,))\n",
    "creator.create(\"Individual\", numpy.ndarray, fitness=creator.FitnessMax)\n",
    "\n",
    "\n",
    "BLOCK_TYPES = ['dense', 'conv']\n",
    "NODE_SIZES = [16, 32, 64, 28, 12, 10, 86, 100]\n",
    "\n",
    "\n",
    "'''\n",
    "Returns random block elements.\n",
    "'''\n",
    "def getRandomBlock(blockType=None, nodeLength=None):\n",
    "    if blockType is None:\n",
    "        blockType = random.choice(BLOCK_TYPES)\n",
    "    if nodeLength is None:\n",
    "        nodeLength = random.choice(NODE_SIZES)\n",
    "\n",
    "    return (blockType, nodeLength)\n",
    "\n",
    "\n",
    "def getRandomIndividual(iterations=3):\n",
    "    #Possible networks to choose from:\n",
    "    networks = [\n",
    "        [representations.make_conv2d_repr(),\n",
    "        representations.make_pool_repr()],\n",
    "\n",
    "        [representations.make_dropout_repr(),\n",
    "        representations.make_conv2d_repr()],\n",
    "\n",
    "        [representations.make_batchnorm_repr()],\n",
    "\n",
    "        [representations.make_noise_repr()]\n",
    "    ]\n",
    "\n",
    "    probabilities = [0.3, 0.3, 0.25, 0.15]\n",
    "\n",
    "\n",
    "    out = []\n",
    "\n",
    "    for x in range(0,iterations):\n",
    "        choice = numpy.random.choice(networks, p=probabilities)\n",
    "        for layer in choice:\n",
    "            out.append(layer)\n",
    "\n",
    "    return out"
   ]
  },
  {
   "cell_type": "code",
   "execution_count": 2,
   "metadata": {},
   "outputs": [],
   "source": [
    "toolbox = base.Toolbox()\n",
    "# Attribute generator (happens randomly at each creation)\n",
    "#toolbox.register(\"nnelem\", getRandomReprFunc)\n",
    "# Structure initializers\n",
    "\n",
    "creator.create(\"NNCreator\", numpy.ndarray, fitness=creator.FitnessMax)\n",
    "\n",
    "toolbox.register(\"individual\", getRandomIndividual) #<-- Creates 3 elements\n",
    "#toolbox.register(\"individual\", tools.initRepeat, creator.Individual, getRandomIndividual, 1) #<-- Creates 3 elements\n",
    "#toolbox.register(\"individual\", tools.initRepeat, list, toolbox.nnelem, 3) #<-- Creates 3 elements\n",
    "toolbox.register(\"population\", tools.initRepeat, list, toolbox.individual)\n",
    "\n"
   ]
  },
  {
   "cell_type": "code",
   "execution_count": 3,
   "metadata": {},
   "outputs": [
    {
     "data": {
      "text/plain": [
       "[{'params': {}, 'type': 'batchnorm'},\n",
       " {'params': {'rate': 0.21}, 'type': 'dropout'},\n",
       " {'params': {'activation': 'relu', 'filters': 32, 'kernel_size': 3},\n",
       "  'type': 'conv2d'},\n",
       " {'params': {'stddev': 0.2307127231637467}, 'type': 'noise'}]"
      ]
     },
     "execution_count": 3,
     "metadata": {},
     "output_type": "execute_result"
    }
   ],
   "source": [
    "toolbox.individual()"
   ]
  },
  {
   "cell_type": "code",
   "execution_count": 4,
   "metadata": {},
   "outputs": [],
   "source": [
    "pop = toolbox.population(n=2)"
   ]
  },
  {
   "cell_type": "code",
   "execution_count": 5,
   "metadata": {},
   "outputs": [
    {
     "data": {
      "text/plain": [
       "[{'params': {'activation': 'relu', 'filters': 16, 'kernel_size': 3},\n",
       "  'type': 'conv2d'},\n",
       " {'params': {'pool_size': 2}, 'type': 'pool'},\n",
       " {'params': {'rate': 0.14}, 'type': 'dropout'},\n",
       " {'params': {'activation': 'relu', 'filters': 8, 'kernel_size': 3},\n",
       "  'type': 'conv2d'},\n",
       " {'params': {'stddev': 0.44435929546462527}, 'type': 'noise'}]"
      ]
     },
     "execution_count": 5,
     "metadata": {},
     "output_type": "execute_result"
    }
   ],
   "source": [
    "pop[1]"
   ]
  },
  {
   "cell_type": "code",
   "execution_count": null,
   "metadata": {},
   "outputs": [],
   "source": []
  }
 ],
 "metadata": {
  "kernelspec": {
   "display_name": "Python 3",
   "language": "python",
   "name": "python3"
  },
  "language_info": {
   "codemirror_mode": {
    "name": "ipython",
    "version": 3
   },
   "file_extension": ".py",
   "mimetype": "text/x-python",
   "name": "python",
   "nbconvert_exporter": "python",
   "pygments_lexer": "ipython3",
   "version": "3.6.3"
  }
 },
 "nbformat": 4,
 "nbformat_minor": 2
}
