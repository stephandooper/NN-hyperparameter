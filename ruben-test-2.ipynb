{
 "cells": [
  {
   "cell_type": "markdown",
   "metadata": {},
   "source": [
    "# fuck\n",
    "\n",
    "this version works with the fitness, but am not able to translate from an Individual object to just a list..."
   ]
  },
  {
   "cell_type": "code",
   "execution_count": 1,
   "metadata": {},
   "outputs": [
    {
     "name": "stderr",
     "output_type": "stream",
     "text": [
      "c:\\users\\ruben\\appdata\\local\\programs\\python\\python36\\lib\\site-packages\\h5py\\__init__.py:36: FutureWarning: Conversion of the second argument of issubdtype from `float` to `np.floating` is deprecated. In future, it will be treated as `np.float64 == np.dtype(float).type`.\n",
      "  from ._conv import register_converters as _register_converters\n",
      "Using TensorFlow backend.\n"
     ]
    }
   ],
   "source": [
    "import random\n",
    "import numpy\n",
    "import array\n",
    "\n",
    "from deap import algorithms\n",
    "from deap import base\n",
    "from deap import creator\n",
    "from deap import tools\n",
    "from deap import gp\n",
    "\n",
    "import representations, fitness\n",
    "\n",
    "\n",
    "\n",
    "def getRandomIndividual(iterations=1):\n",
    "    #Possible networks to choose from:\n",
    "    '''\n",
    "    networks = [\n",
    "        [representations.make_conv2d_repr(),\n",
    "        representations.make_pool_repr()],\n",
    "\n",
    "        [representations.make_dropout_repr(),\n",
    "        representations.make_conv2d_repr()],\n",
    "\n",
    "        [representations.make_batchnorm_repr()],\n",
    "\n",
    "        [representations.make_noise_repr()]\n",
    "    ]\n",
    "\n",
    "    probabilities = [0.3, 0.3, 0.25, 0.15]\n",
    "\n",
    "    \n",
    "    out = []\n",
    "\n",
    "    \n",
    "    for x in range(0,iterations):\n",
    "        choice = numpy.random.choice(networks, p=probabilities)\n",
    "        for layer in choice:\n",
    "            out.append(layer)\n",
    "    \n",
    "    return out\n",
    "    '''\n",
    "    networks = [\n",
    "        representations.make_conv2d_pool_repr(),\n",
    "        representations.make_conv2d_dropout_repr(),\n",
    "        representations.make_batchnorm_repr(),\n",
    "        representations.make_noise_repr()\n",
    "    ]\n",
    "    probabilities = [0.3, 0.3, 0.25, 0.15]\n",
    "    \n",
    "    return numpy.random.choice(networks,p=probabilities)\n",
    "\n",
    "\n",
    "'''\n",
    "Evaluation function (should return the fitness)\n",
    "'''\n",
    "def evaluateFunc(individual):\n",
    "    return fitness.evaluate_nn(individual), #<--- IMPORTANT: add the comma ','; as it needs to return a tuple\n",
    "\n",
    "\n"
   ]
  },
  {
   "cell_type": "code",
   "execution_count": 2,
   "metadata": {},
   "outputs": [],
   "source": [
    "\n",
    "\n",
    "# Create attributes\n",
    "creator.create(\"FitnessMax\", base.Fitness, weights=(1.0,))\n",
    "creator.create(\"Individual\", numpy.ndarray,  fitness=creator.FitnessMax)\n",
    "\n",
    "toolbox = base.Toolbox()\n",
    "\n",
    "toolbox.register(\"individual\", tools.initRepeat, creator.Individual, getRandomIndividual, n=3) #<-- Creates 3 elements\n",
    "#toolbox.register(\"individual\", tools.initRepeat, creator.Individual, toolbox.nnelem, 3) #<-- Creates 3 elements\n",
    "#toolbox.register(\"individual\", tools.initRepeat, list, toolbox.nnelem, 3) #<-- Creates 3 elements\n",
    "toolbox.register(\"population\", tools.initRepeat, list, toolbox.individual)\n",
    "\n",
    "# ---------------- Up till here it should work just fine\n",
    "\n",
    "\n",
    "\n",
    "toolbox.register(\"evaluate\", evaluateFunc) #register the evaluation function\n",
    "#toolbox.register(\"mate\", tools.cxTwoPoint)\n",
    "#toolbox.register(\"mutate\", mutations.mutate_append_remove, prob_remove=1)\n",
    "toolbox.register(\"select\", tools.selTournament, tournsize=3)\n",
    "#toolbox.register(\"select\", tools.selBest)\n",
    "#deap.tools.selBest(individuals, k, fit_attr='fitness')¶\n"
   ]
  },
  {
   "cell_type": "code",
   "execution_count": 4,
   "metadata": {
    "scrolled": false
   },
   "outputs": [
    {
     "name": "stdout",
     "output_type": "stream",
     "text": [
      "Train on 500 samples, validate on 100 samples\n",
      "Epoch 1/2\n",
      "500/500 [==============================] - 2s 4ms/step - loss: 1.7253 - acc: 0.4680 - val_loss: 0.8510 - val_acc: 0.7500\n",
      "Epoch 2/2\n",
      "500/500 [==============================] - 1s 2ms/step - loss: 0.4322 - acc: 0.8680 - val_loss: 0.6017 - val_acc: 0.7900\n",
      "Succes!!\n",
      "Train on 500 samples, validate on 100 samples\n",
      "Epoch 1/2\n",
      "500/500 [==============================] - 2s 4ms/step - loss: 1.0568 - acc: 0.6880 - val_loss: 0.6088 - val_acc: 0.8100\n",
      "Epoch 2/2\n",
      "500/500 [==============================] - 1s 1ms/step - loss: 0.3187 - acc: 0.9120 - val_loss: 0.4080 - val_acc: 0.8900\n",
      "Succes!!\n",
      "Train on 500 samples, validate on 100 samples\n",
      "Epoch 1/2\n",
      "500/500 [==============================] - 2s 3ms/step - loss: 12.5216 - acc: 0.1960 - val_loss: 10.4661 - val_acc: 0.3400\n",
      "Epoch 2/2\n",
      "500/500 [==============================] - 0s 694us/step - loss: 10.9070 - acc: 0.3140 - val_loss: 9.8385 - val_acc: 0.3600\n",
      "Succes!!\n",
      "Train on 500 samples, validate on 100 samples\n",
      "Epoch 1/2\n",
      "500/500 [==============================] - 2s 4ms/step - loss: 1.5670 - acc: 0.5460 - val_loss: 1.0404 - val_acc: 0.6700\n",
      "Epoch 2/2\n",
      "500/500 [==============================] - 1s 1ms/step - loss: 0.6002 - acc: 0.8440 - val_loss: 0.6266 - val_acc: 0.8100\n",
      "Succes!!\n",
      "Train on 500 samples, validate on 100 samples\n",
      "Epoch 1/2\n",
      "500/500 [==============================] - 1s 3ms/step - loss: 13.4839 - acc: 0.1500 - val_loss: 13.4447 - val_acc: 0.1600\n",
      "Epoch 2/2\n",
      "500/500 [==============================] - 0s 570us/step - loss: 12.4110 - acc: 0.2200 - val_loss: 13.1437 - val_acc: 0.1800\n",
      "Succes!!\n",
      "Train on 500 samples, validate on 100 samples\n",
      "Epoch 1/2\n",
      "500/500 [==============================] - 2s 3ms/step - loss: 2.4503 - acc: 0.1860 - val_loss: 1.5171 - val_acc: 0.6400\n",
      "Epoch 2/2\n",
      "500/500 [==============================] - 0s 642us/step - loss: 1.5042 - acc: 0.4800 - val_loss: 0.9567 - val_acc: 0.7700\n",
      "Succes!!\n",
      "Train on 500 samples, validate on 100 samples\n",
      "Epoch 1/2\n",
      "500/500 [==============================] - 2s 3ms/step - loss: 2.4422 - acc: 0.1620 - val_loss: 2.0945 - val_acc: 0.3800\n",
      "Epoch 2/2\n",
      "500/500 [==============================] - 0s 568us/step - loss: 2.0168 - acc: 0.2860 - val_loss: 1.7812 - val_acc: 0.5000\n",
      "Succes!!\n",
      "Train on 500 samples, validate on 100 samples\n",
      "Epoch 1/2\n",
      "500/500 [==============================] - 2s 3ms/step - loss: 2.4419 - acc: 0.2060 - val_loss: 1.5125 - val_acc: 0.5200\n",
      "Epoch 2/2\n",
      "500/500 [==============================] - 0s 656us/step - loss: 1.3804 - acc: 0.5680 - val_loss: 0.9686 - val_acc: 0.6800\n",
      "Succes!!\n",
      "Train on 500 samples, validate on 100 samples\n",
      "Epoch 1/2\n",
      "500/500 [==============================] - 2s 5ms/step - loss: 2.1167 - acc: 0.3140 - val_loss: 1.6105 - val_acc: 0.4700\n",
      "Epoch 2/2\n",
      "500/500 [==============================] - 1s 1ms/step - loss: 1.0769 - acc: 0.6560 - val_loss: 1.0433 - val_acc: 0.6900\n",
      "Succes!!\n",
      "Train on 500 samples, validate on 100 samples\n",
      "Epoch 1/2\n",
      "500/500 [==============================] - 2s 3ms/step - loss: 11.3805 - acc: 0.2740 - val_loss: 12.0886 - val_acc: 0.2500\n",
      "Epoch 2/2\n",
      "500/500 [==============================] - 0s 469us/step - loss: 10.7780 - acc: 0.3280 - val_loss: 11.1964 - val_acc: 0.3000\n",
      "Succes!!\n",
      "gen\tnevals\tavg  \tstd     \tmin \tmax \n",
      "0  \t0     \t0.597\t0.232725\t0.18\t0.89\n"
     ]
    },
    {
     "ename": "AttributeError",
     "evalue": "'Toolbox' object has no attribute 'mutate'",
     "output_type": "error",
     "traceback": [
      "\u001b[1;31m---------------------------------------------------------------------------\u001b[0m",
      "\u001b[1;31mAttributeError\u001b[0m                            Traceback (most recent call last)",
      "\u001b[1;32m<ipython-input-4-2968e25eea4a>\u001b[0m in \u001b[0;36m<module>\u001b[1;34m()\u001b[0m\n\u001b[0;32m     15\u001b[0m \u001b[0mstats\u001b[0m\u001b[1;33m.\u001b[0m\u001b[0mregister\u001b[0m\u001b[1;33m(\u001b[0m\u001b[1;34m\"max\"\u001b[0m\u001b[1;33m,\u001b[0m \u001b[0mnumpy\u001b[0m\u001b[1;33m.\u001b[0m\u001b[0mmax\u001b[0m\u001b[1;33m)\u001b[0m\u001b[1;33m\u001b[0m\u001b[0m\n\u001b[0;32m     16\u001b[0m \u001b[1;33m\u001b[0m\u001b[0m\n\u001b[1;32m---> 17\u001b[1;33m \u001b[0mpop\u001b[0m\u001b[1;33m,\u001b[0m \u001b[0mlog\u001b[0m \u001b[1;33m=\u001b[0m \u001b[0malgorithms\u001b[0m\u001b[1;33m.\u001b[0m\u001b[0meaSimple\u001b[0m\u001b[1;33m(\u001b[0m\u001b[0mpop\u001b[0m\u001b[1;33m,\u001b[0m \u001b[0mtoolbox\u001b[0m\u001b[1;33m,\u001b[0m \u001b[0mcxpb\u001b[0m\u001b[1;33m=\u001b[0m\u001b[1;36m0.5\u001b[0m\u001b[1;33m,\u001b[0m \u001b[0mmutpb\u001b[0m\u001b[1;33m=\u001b[0m\u001b[1;36m0.2\u001b[0m\u001b[1;33m,\u001b[0m \u001b[0mngen\u001b[0m\u001b[1;33m=\u001b[0m\u001b[1;36m5\u001b[0m\u001b[1;33m,\u001b[0m \u001b[0mstats\u001b[0m\u001b[1;33m=\u001b[0m\u001b[0mstats\u001b[0m\u001b[1;33m,\u001b[0m \u001b[0mhalloffame\u001b[0m\u001b[1;33m=\u001b[0m\u001b[0mhof\u001b[0m\u001b[1;33m,\u001b[0m \u001b[0mverbose\u001b[0m\u001b[1;33m=\u001b[0m\u001b[1;32mTrue\u001b[0m\u001b[1;33m)\u001b[0m\u001b[1;33m\u001b[0m\u001b[0m\n\u001b[0m\u001b[0;32m     18\u001b[0m \u001b[1;33m\u001b[0m\u001b[0m\n\u001b[0;32m     19\u001b[0m \u001b[0mprint\u001b[0m\u001b[1;33m(\u001b[0m\u001b[1;34m'log: '\u001b[0m\u001b[1;33m,\u001b[0m \u001b[0mlog\u001b[0m\u001b[1;33m)\u001b[0m\u001b[1;33m\u001b[0m\u001b[0m\n",
      "\u001b[1;32mc:\\users\\ruben\\appdata\\local\\programs\\python\\python36\\lib\\site-packages\\deap\\algorithms.py\u001b[0m in \u001b[0;36meaSimple\u001b[1;34m(population, toolbox, cxpb, mutpb, ngen, stats, halloffame, verbose)\u001b[0m\n\u001b[0;32m    166\u001b[0m \u001b[1;33m\u001b[0m\u001b[0m\n\u001b[0;32m    167\u001b[0m         \u001b[1;31m# Vary the pool of individuals\u001b[0m\u001b[1;33m\u001b[0m\u001b[1;33m\u001b[0m\u001b[0m\n\u001b[1;32m--> 168\u001b[1;33m         \u001b[0moffspring\u001b[0m \u001b[1;33m=\u001b[0m \u001b[0mvarAnd\u001b[0m\u001b[1;33m(\u001b[0m\u001b[0moffspring\u001b[0m\u001b[1;33m,\u001b[0m \u001b[0mtoolbox\u001b[0m\u001b[1;33m,\u001b[0m \u001b[0mcxpb\u001b[0m\u001b[1;33m,\u001b[0m \u001b[0mmutpb\u001b[0m\u001b[1;33m)\u001b[0m\u001b[1;33m\u001b[0m\u001b[0m\n\u001b[0m\u001b[0;32m    169\u001b[0m \u001b[1;33m\u001b[0m\u001b[0m\n\u001b[0;32m    170\u001b[0m         \u001b[1;31m# Evaluate the individuals with an invalid fitness\u001b[0m\u001b[1;33m\u001b[0m\u001b[1;33m\u001b[0m\u001b[0m\n",
      "\u001b[1;32mc:\\users\\ruben\\appdata\\local\\programs\\python\\python36\\lib\\site-packages\\deap\\algorithms.py\u001b[0m in \u001b[0;36mvarAnd\u001b[1;34m(population, toolbox, cxpb, mutpb)\u001b[0m\n\u001b[0;32m     77\u001b[0m     \u001b[1;32mfor\u001b[0m \u001b[0mi\u001b[0m \u001b[1;32min\u001b[0m \u001b[0mrange\u001b[0m\u001b[1;33m(\u001b[0m\u001b[0mlen\u001b[0m\u001b[1;33m(\u001b[0m\u001b[0moffspring\u001b[0m\u001b[1;33m)\u001b[0m\u001b[1;33m)\u001b[0m\u001b[1;33m:\u001b[0m\u001b[1;33m\u001b[0m\u001b[0m\n\u001b[0;32m     78\u001b[0m         \u001b[1;32mif\u001b[0m \u001b[0mrandom\u001b[0m\u001b[1;33m.\u001b[0m\u001b[0mrandom\u001b[0m\u001b[1;33m(\u001b[0m\u001b[1;33m)\u001b[0m \u001b[1;33m<\u001b[0m \u001b[0mmutpb\u001b[0m\u001b[1;33m:\u001b[0m\u001b[1;33m\u001b[0m\u001b[0m\n\u001b[1;32m---> 79\u001b[1;33m             \u001b[0moffspring\u001b[0m\u001b[1;33m[\u001b[0m\u001b[0mi\u001b[0m\u001b[1;33m]\u001b[0m\u001b[1;33m,\u001b[0m \u001b[1;33m=\u001b[0m \u001b[0mtoolbox\u001b[0m\u001b[1;33m.\u001b[0m\u001b[0mmutate\u001b[0m\u001b[1;33m(\u001b[0m\u001b[0moffspring\u001b[0m\u001b[1;33m[\u001b[0m\u001b[0mi\u001b[0m\u001b[1;33m]\u001b[0m\u001b[1;33m)\u001b[0m\u001b[1;33m\u001b[0m\u001b[0m\n\u001b[0m\u001b[0;32m     80\u001b[0m             \u001b[1;32mdel\u001b[0m \u001b[0moffspring\u001b[0m\u001b[1;33m[\u001b[0m\u001b[0mi\u001b[0m\u001b[1;33m]\u001b[0m\u001b[1;33m.\u001b[0m\u001b[0mfitness\u001b[0m\u001b[1;33m.\u001b[0m\u001b[0mvalues\u001b[0m\u001b[1;33m\u001b[0m\u001b[0m\n\u001b[0;32m     81\u001b[0m \u001b[1;33m\u001b[0m\u001b[0m\n",
      "\u001b[1;31mAttributeError\u001b[0m: 'Toolbox' object has no attribute 'mutate'"
     ]
    }
   ],
   "source": [
    "    random.seed(1337)\n",
    "    pop = toolbox.population(n=10)\n",
    "\n",
    "    # Evaluate the entire population\n",
    "    fitnesses = list(map(toolbox.evaluate, pop))\n",
    "    for ind, fit in zip(pop, fitnesses):\n",
    "        ind.fitness.values = fit\n",
    "\n",
    "\n",
    "    hof = tools.HallOfFame(1, similar=numpy.array_equal)\n",
    "    stats = tools.Statistics(lambda ind: ind.fitness.values)\n",
    "    stats.register(\"avg\", numpy.mean)\n",
    "    stats.register(\"std\", numpy.std)\n",
    "    stats.register(\"min\", numpy.min)\n",
    "    stats.register(\"max\", numpy.max)\n",
    "    \n",
    "    pop, log = algorithms.eaSimple(pop, toolbox, cxpb=0.5, mutpb=0.2, ngen=5, stats=stats, halloffame=hof, verbose=True)\n",
    "\n",
    "    print('log: ', log)"
   ]
  },
  {
   "cell_type": "code",
   "execution_count": null,
   "metadata": {},
   "outputs": [],
   "source": [
    "test = toolbox.individual()"
   ]
  },
  {
   "cell_type": "code",
   "execution_count": null,
   "metadata": {},
   "outputs": [],
   "source": [
    "test"
   ]
  },
  {
   "cell_type": "code",
   "execution_count": null,
   "metadata": {},
   "outputs": [],
   "source": [
    "fitness.evaluate_nn_test(test)"
   ]
  },
  {
   "cell_type": "code",
   "execution_count": null,
   "metadata": {},
   "outputs": [],
   "source": [
    "import representations\n",
    "import numpy as np\n",
    "from keras.datasets import mnist\n",
    "import keras\n",
    "\n",
    "(x_train, y_train), (x_test, y_test) = mnist.load_data()\n",
    "x_train = np.expand_dims(x_train, axis=3) #add the 'channel' dimension, in order to use Conv2D!\n",
    "x_test = np.expand_dims(x_test, axis=3)\n",
    "\n",
    "#to categorical, otherwise last dense layer expects 1 input only:\n",
    "num_classes=10\n",
    "y_train = keras.utils.to_categorical(y_train, num_classes)\n",
    "y_test = keras.utils.to_categorical(y_test, num_classes)"
   ]
  },
  {
   "cell_type": "code",
   "execution_count": null,
   "metadata": {},
   "outputs": [],
   "source": [
    "x_train"
   ]
  }
 ],
 "metadata": {
  "kernelspec": {
   "display_name": "Python 3",
   "language": "python",
   "name": "python3"
  },
  "language_info": {
   "codemirror_mode": {
    "name": "ipython",
    "version": 3
   },
   "file_extension": ".py",
   "mimetype": "text/x-python",
   "name": "python",
   "nbconvert_exporter": "python",
   "pygments_lexer": "ipython3",
   "version": "3.6.3"
  }
 },
 "nbformat": 4,
 "nbformat_minor": 2
}
